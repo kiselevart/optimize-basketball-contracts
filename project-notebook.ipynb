{
 "cells": [
  {
   "cell_type": "code",
   "execution_count": 1,
   "id": "0406851c",
   "metadata": {},
   "outputs": [],
   "source": [
    "from docplex.mp.model import Model"
   ]
  },
  {
   "cell_type": "code",
   "execution_count": 12,
   "id": "bbbdd4a2",
   "metadata": {},
   "outputs": [],
   "source": [
    "model = Model(name=\"tennessee_pterodactlys\")"
   ]
  },
  {
   "cell_type": "code",
   "execution_count": 13,
   "id": "a8cb8d71",
   "metadata": {},
   "outputs": [],
   "source": [
    "# 12 binary vars, one for each player. 1 = signed to team, 0 otherwise\n",
    "x1 = model.binary_var(name=\"Mack Madonna\")\n",
    "x2 = model.binary_var(name=\"Darrell Boards\")\n",
    "x3 = model.binary_var(name=\"Silk Curry\")\n",
    "x4 = model.binary_var(name=\"Ramon Dion\")\n",
    "x5 = model.binary_var(name=\"Joe Eastcoast\")\n",
    "x6 = model.binary_var(name=\"Abdul Famous\")\n",
    "x7 = model.binary_var(name=\"Hiram Grant\")\n",
    "x8 = model.binary_var(name=\"Antoine Roadman\")\n",
    "x9 = model.binary_var(name=\"Fred Westcoast\")\n",
    "x10 = model.binary_var(name=\"Magic Jordan\")\n",
    "x11 = model.binary_var(name=\"Barry Bird\")\n",
    "x12 = model.binary_var(name=\"Grant Hall\")"
   ]
  },
  {
   "cell_type": "code",
   "execution_count": 14,
   "id": "4a7d61ae",
   "metadata": {},
   "outputs": [
    {
     "name": "stdout",
     "output_type": "stream",
     "text": [
      "12 12 12 12 12\n"
     ]
    }
   ],
   "source": [
    "salary = [8.2, 6.5, 5.2, 16.4, 14.3, 23.5, 4.7, 7.1, 15.8, 26.4, 19.5, 8.6]\n",
    "points = [14.7, 12.6, 13.5, 27.1, 18.1, 22.8, 9.3, 10.2, 16.9, 28.5, 24.8, 11.3]\n",
    "rebounds = [4.4, 10.6, 8.7, 7.1, 7.5, 9.5, 12.2, 12.6, 2.5, 6.5, 8.6, 12.5]\n",
    "assists = [9.3, 2.1, 1.7, 4.5, 5.1, 2.4, 3.5, 1.8, 11.4, 1.3, 6.9, 3.2]\n",
    "minutes = [40.3, 34.5, 29.3, 42.5, 41.0, 38.5, 31.5, 44.4, 42.7, 38.1, 42.6, 39.5]\n",
    "\n",
    "# True for Front court, False for Back court\n",
    "is_front_court = [\n",
    "    False,\n",
    "    True, \n",
    "    False,\n",
    "    False,\n",
    "    False,\n",
    "    True, \n",
    "    True, \n",
    "    True, \n",
    "    True, \n",
    "    False,\n",
    "    True, \n",
    "    True, \n",
    "]\n",
    "\n",
    "# sanity check\n",
    "print(len(salary), len(points), len(rebounds), len(assists), len(minutes))"
   ]
  },
  {
   "cell_type": "code",
   "execution_count": null,
   "id": "29f44588",
   "metadata": {},
   "outputs": [],
   "source": []
  }
 ],
 "metadata": {
  "kernelspec": {
   "display_name": ".venv (3.10.18)",
   "language": "python",
   "name": "python3"
  },
  "language_info": {
   "codemirror_mode": {
    "name": "ipython",
    "version": 3
   },
   "file_extension": ".py",
   "mimetype": "text/x-python",
   "name": "python",
   "nbconvert_exporter": "python",
   "pygments_lexer": "ipython3",
   "version": "3.13.4"
  }
 },
 "nbformat": 4,
 "nbformat_minor": 5
}
