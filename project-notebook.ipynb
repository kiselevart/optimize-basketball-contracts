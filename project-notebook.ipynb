{
 "cells": [
  {
   "cell_type": "code",
   "execution_count": 22,
   "id": "0406851c",
   "metadata": {},
   "outputs": [],
   "source": [
    "from docplex.mp.model import Model\n",
    "import numpy as np"
   ]
  },
  {
   "cell_type": "code",
   "execution_count": 23,
   "id": "bbbdd4a2",
   "metadata": {},
   "outputs": [],
   "source": [
    "model = Model(name=\"tennessee_pterodactlys\")"
   ]
  },
  {
   "cell_type": "code",
   "execution_count": 24,
   "id": "4a7d61ae",
   "metadata": {},
   "outputs": [],
   "source": [
    "# 12 binary vars, one for each player. 1 = signed to team, 0 otherwise\n",
    "x1 = model.binary_var(name=\"Mack Madonna\")\n",
    "x2 = model.binary_var(name=\"Darrell Boards\")\n",
    "x3 = model.binary_var(name=\"Silk Curry\")\n",
    "x4 = model.binary_var(name=\"Ramon Dion\")\n",
    "x5 = model.binary_var(name=\"Joe Eastcoast\")\n",
    "x6 = model.binary_var(name=\"Abdul Famous\")\n",
    "x7 = model.binary_var(name=\"Hiram Grant\")\n",
    "x8 = model.binary_var(name=\"Antoine Roadman\")\n",
    "x9 = model.binary_var(name=\"Fred Westcoast\")\n",
    "x10 = model.binary_var(name=\"Magic Jordan\")\n",
    "x11 = model.binary_var(name=\"Barry Bird\")\n",
    "x12 = model.binary_var(name=\"Grant Hall\")\n",
    "\n",
    "xs = np.array([x1, x2, x3, x4, x5, x6, x7, x8, x9, x10, x11, x12])\n",
    "\n",
    "salary = np.array([8.2, 6.5, 5.2, 16.4, 14.3, 23.5, 4.7, 7.1, 15.8, 26.4, 19.5, 8.6])\n",
    "points = np.array([14.7, 12.6, 13.5, 27.1, 18.1, 22.8, 9.3, 10.2, 16.9, 28.5, 24.8, 11.3])\n",
    "rebounds = np.array([4.4, 10.6, 8.7, 7.1, 7.5, 9.5, 12.2, 12.6, 2.5, 6.5, 8.6, 12.5])\n",
    "assists = np.array([9.3, 2.1, 1.7, 4.5, 5.1, 2.4, 3.5, 1.8, 11.4, 1.3, 6.9, 3.2])\n",
    "minutes = np.array([40.3, 34.5, 29.3, 42.5, 41.0, 38.5, 31.5, 44.4, 42.7, 38.1, 42.6, 39.5])\n",
    "\n",
    "# True for Front court, False for Back court\n",
    "is_front_court = np.array([\n",
    "    False,\n",
    "    True, \n",
    "    False,\n",
    "    False,\n",
    "    False,\n",
    "    True, \n",
    "    True, \n",
    "    True, \n",
    "    True, \n",
    "    False,\n",
    "    True, \n",
    "    True, \n",
    "])\n",
    "\n",
    "model.minimize(np.dot(salary, xs))"
   ]
  },
  {
   "cell_type": "code",
   "execution_count": 25,
   "id": "29f44588",
   "metadata": {},
   "outputs": [
    {
     "ename": "DOcplexException",
     "evalue": "Cannot solve model: no CPLEX runtime found.",
     "output_type": "error",
     "traceback": [
      "\u001b[31m---------------------------------------------------------------------------\u001b[39m",
      "\u001b[31mDOcplexException\u001b[39m                          Traceback (most recent call last)",
      "\u001b[36mCell\u001b[39m\u001b[36m \u001b[39m\u001b[32mIn[25]\u001b[39m\u001b[32m, line 1\u001b[39m\n\u001b[32m----> \u001b[39m\u001b[32m1\u001b[39m solution = \u001b[43mmodel\u001b[49m\u001b[43m.\u001b[49m\u001b[43msolve\u001b[49m\u001b[43m(\u001b[49m\u001b[43m)\u001b[49m\n\u001b[32m      2\u001b[39m \u001b[38;5;28;01mif\u001b[39;00m solution:\n\u001b[32m      3\u001b[39m     \u001b[38;5;28mprint\u001b[39m(solution)\n",
      "\u001b[36mFile \u001b[39m\u001b[32m~/uni/optimization/project/.venv/lib/python3.13/site-packages/docplex/mp/model.py:4903\u001b[39m, in \u001b[36mModel.solve\u001b[39m\u001b[34m(self, **kwargs)\u001b[39m\n\u001b[32m   4901\u001b[39m     \u001b[38;5;28;01mreturn\u001b[39;00m \u001b[38;5;28mself\u001b[39m._solve_local(context, used_clean_before_solve, parameter_sets)\u001b[38;5;66;03m# lex_timelimits, lex_mipgaps)\u001b[39;00m\n\u001b[32m   4902\u001b[39m \u001b[38;5;28;01melse\u001b[39;00m:\n\u001b[32m-> \u001b[39m\u001b[32m4903\u001b[39m     \u001b[38;5;28;01mreturn\u001b[39;00m \u001b[38;5;28;43mself\u001b[39;49m\u001b[43m.\u001b[49m\u001b[43mfatal\u001b[49m\u001b[43m(\u001b[49m\u001b[33;43m\"\u001b[39;49m\u001b[33;43mCannot solve model: no CPLEX runtime found.\u001b[39;49m\u001b[33;43m\"\u001b[39;49m\u001b[43m)\u001b[49m\n",
      "\u001b[36mFile \u001b[39m\u001b[32m~/uni/optimization/project/.venv/lib/python3.13/site-packages/docplex/mp/model.py:1093\u001b[39m, in \u001b[36mModel.fatal\u001b[39m\u001b[34m(self, msg, *args)\u001b[39m\n\u001b[32m   1092\u001b[39m \u001b[38;5;28;01mdef\u001b[39;00m\u001b[38;5;250m \u001b[39m\u001b[34mfatal\u001b[39m(\u001b[38;5;28mself\u001b[39m, msg, *args):\n\u001b[32m-> \u001b[39m\u001b[32m1093\u001b[39m     \u001b[38;5;28;43mself\u001b[39;49m\u001b[43m.\u001b[49m\u001b[43m_error_handler\u001b[49m\u001b[43m.\u001b[49m\u001b[43mfatal\u001b[49m\u001b[43m(\u001b[49m\u001b[43mmsg\u001b[49m\u001b[43m,\u001b[49m\u001b[43m \u001b[49m\u001b[43margs\u001b[49m\u001b[43m)\u001b[49m\n",
      "\u001b[36mFile \u001b[39m\u001b[32m~/uni/optimization/project/.venv/lib/python3.13/site-packages/docplex/mp/error_handler.py:210\u001b[39m, in \u001b[36mAbstractErrorHandler.fatal\u001b[39m\u001b[34m(self, msg, args)\u001b[39m\n\u001b[32m    208\u001b[39m resolved_message = resolve_pattern(msg, args)\n\u001b[32m    209\u001b[39m docplex_error_stop_here()\n\u001b[32m--> \u001b[39m\u001b[32m210\u001b[39m \u001b[38;5;28;01mraise\u001b[39;00m DOcplexException(resolved_message)\n",
      "\u001b[31mDOcplexException\u001b[39m: Cannot solve model: no CPLEX runtime found."
     ]
    }
   ],
   "source": [
    "solution = model.solve()\n",
    "if solution:\n",
    "    print(solution)"
   ]
  },
  {
   "cell_type": "code",
   "execution_count": null,
   "id": "0fb5a8e1",
   "metadata": {},
   "outputs": [],
   "source": []
  }
 ],
 "metadata": {
  "kernelspec": {
   "display_name": ".venv (3.10.18)",
   "language": "python",
   "name": "python3"
  },
  "language_info": {
   "codemirror_mode": {
    "name": "ipython",
    "version": 3
   },
   "file_extension": ".py",
   "mimetype": "text/x-python",
   "name": "python",
   "nbconvert_exporter": "python",
   "pygments_lexer": "ipython3",
   "version": "3.10.18"
  }
 },
 "nbformat": 4,
 "nbformat_minor": 5
}
